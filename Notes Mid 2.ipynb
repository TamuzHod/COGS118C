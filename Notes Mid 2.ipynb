{
 "cells": [
  {
   "cell_type": "markdown",
   "metadata": {},
   "source": [
    "# Time Frequancy"
   ]
  },
  {
   "cell_type": "markdown",
   "metadata": {},
   "source": [
    "## Paramater Housekeeping\n",
    "#### Givens\n",
    "* T = total signel length (s)\n",
    "* fs = sampleing rate (Hz)\n",
    "\n",
    "#### Computable\n",
    "* dt = sampling interval (s)\n",
    "* N = # of samples\n",
    "* df = frequancy resultion\n",
    "* f(k) = frequancy (Hz)\n",
    "\n",
    "#### STFT paramter (You get to chose those)\n",
    "* M = window length (s)\n",
    "* R = step length (s)\n",
    "* L = overlap length (s)\n",
    "* M = R + L\n",
    "\n",
    "### df_STFT = 1/M"
   ]
  },
  {
   "cell_type": "markdown",
   "metadata": {},
   "source": [
    "#### The more precise frequancy estimates (large M) the less precise the temporal resultion (small df)\n",
    "* M * df = 1"
   ]
  },
  {
   "cell_type": "markdown",
   "metadata": {},
   "source": [
    "# STFT Transformation\n",
    "### Power = |x_k|^2\n",
    "* __X(k,r) = a+ib__ => Power Spectogram\n",
    "    * no averaging (the DFT directly) = __Periodogram__ this is the power spectrom\n",
    "        * Avraged over time => Power Spectral Density (PSD)\n",
    "            * averaging (no overlap R = M) = __Bartlett's Method__\n",
    "            * averaging (yes overlap R = M - L) = __Bartlett's Method__ \n",
    "            * We normelise power by M\n",
    "            * Densety = power / freq => V^2/Hz\n",
    "    * avrage over phasse angeles Phase \n",
    "        * incoherent (desynchonizied) / Coherence (Synchronized)\n",
    "            * The avrage vector \n",
    "            * Is only large when frequncies are synchronised\n",
    "        Coherent ("
   ]
  },
  {
   "cell_type": "markdown",
   "metadata": {},
   "source": [
    "# Motivate Windowing"
   ]
  },
  {
   "cell_type": "markdown",
   "metadata": {},
   "source": [
    "You are always appling a window leading to __Spectral Leakage__\n",
    "* __Chose a winodw function optimise frequancy response__\n",
    "* Misimise width and maxemise height of __main lobe__\n",
    "* minimise this height and maxemise the drop-off of __side lobe__\n"
   ]
  },
  {
   "cell_type": "markdown",
   "metadata": {},
   "source": [
    "# Filtering"
   ]
  },
  {
   "cell_type": "markdown",
   "metadata": {},
   "source": [
    "* Frequancy domain : X(f)H(f) = Y(f)\n",
    "    * X(f) = signal\n",
    "    * H(f) = filter\n",
    "    * Y(f) = signal you want\n",
    "* time domain\n",
    "    * x(t) * h(t) = y(t)\n",
    "    * * = convolve\n",
    "Filter is known as \"filter coefficients\" or as the __Impulse Response Function__"
   ]
  },
  {
   "cell_type": "markdown",
   "metadata": {},
   "source": [
    "#### Phase Response = time delay\n",
    "Each point after fileting is delayed by n/2 points where n is the length of the filter"
   ]
  },
  {
   "cell_type": "markdown",
   "metadata": {},
   "source": [
    "### Magnaitude Response Tupes\n",
    "* Low Pass Filter and High pass filter\n",
    "* Band pass filter and Band reject filter\n",
    "* All pass filter \n",
    "    * Phase shift between input and output of all pass filter \n",
    "    \n",
    "#### The longer the  filter the better frequancy reselution"
   ]
  }
 ],
 "metadata": {
  "kernelspec": {
   "display_name": "Python 3",
   "language": "python",
   "name": "python3"
  },
  "language_info": {
   "codemirror_mode": {
    "name": "ipython",
    "version": 3
   },
   "file_extension": ".py",
   "mimetype": "text/x-python",
   "name": "python",
   "nbconvert_exporter": "python",
   "pygments_lexer": "ipython3",
   "version": "3.7.0"
  }
 },
 "nbformat": 4,
 "nbformat_minor": 2
}
