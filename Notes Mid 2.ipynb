{
 "cells": [
  {
   "cell_type": "markdown",
   "metadata": {},
   "source": [
    "# Time Frequancy"
   ]
  },
  {
   "cell_type": "markdown",
   "metadata": {},
   "source": [
    "## Paramater Housekeeping\n",
    "#### Givens\n",
    "* T = total signel length (s)\n",
    "* fs = sampleing rate (Hz)\n",
    "\n",
    "#### Computable\n",
    "* dt = sampling interval (s)\n",
    "* N = # of samples\n",
    "* df = frequancy resultion\n",
    "* f(k) = frequancy (Hz)\n",
    "\n",
    "#### STFT paramter (You get to chose those)\n",
    "* M = window length (s)\n",
    "* R = step length (s)\n",
    "* L = overlap length (s)\n",
    "* M = R + L\n",
    "\n",
    "### df_STFT = 1/M"
   ]
  },
  {
   "cell_type": "markdown",
   "metadata": {},
   "source": [
    "#### The more precise frequancy estimates (large M) the less precise the temporal resultion (small df)\n",
    "* M * df = 1"
   ]
  },
  {
   "cell_type": "markdown",
   "metadata": {},
   "source": [
    "# STFT Transformation\n",
    "### Power = |x_k|^2\n",
    "* __X(k,r) = a+ib__ => Power Spectogram\n",
    "    * no averaging (the DFT directly) = __Periodogram__ this is the power spectrom\n",
    "        * Avraged over time => Power Spectral Density (PSD)\n",
    "            * averaging (no overlap R = M) = __Bartlett's Method__\n",
    "            * averaging (yes overlap R = M - L) = __Bartlett's Method__ \n",
    "            * We normelise power by M\n",
    "            * Densety = power / freq => V^2/Hz\n",
    "    * avrage over phasse angeles Phase \n",
    "        * incoherent (desynchonizied) / Coherence (Synchronized)\n",
    "            * The avrage vector \n",
    "            * Is only large when frequncies are synchronised\n",
    "        Coherent ("
   ]
  },
  {
   "cell_type": "markdown",
   "metadata": {},
   "source": [
    "# Motivate Windowing"
   ]
  },
  {
   "cell_type": "markdown",
   "metadata": {},
   "source": [
    "You are always appling a window leading to __Spectral Leakage__\n",
    "* __Chose a winodw function optimise frequancy response__\n",
    "* Misimise width and maxemise height of __main lobe__\n",
    "* minimise this height and maxemise the drop-off of __side lobe__\n"
   ]
  },
  {
   "cell_type": "markdown",
   "metadata": {},
   "source": [
    "# Filtering"
   ]
  },
  {
   "cell_type": "markdown",
   "metadata": {},
   "source": [
    "* Frequancy domain : X(f)H(f) = Y(f)\n",
    "    * X(f) = signal\n",
    "    * H(f) = filter\n",
    "    * Y(f) = signal you want\n",
    "* time domain\n",
    "    * x(t) * h(t) = y(t)\n",
    "    * * = convolve\n",
    "Filter is known as \"filter coefficients\" or as the __Impulse Response Function__"
   ]
  },
  {
   "cell_type": "markdown",
   "metadata": {},
   "source": [
    "#### Phase Response = time delay\n",
    "Each point after fileting is delayed by n/2 points where n is the length of the filter"
   ]
  },
  {
   "cell_type": "markdown",
   "metadata": {},
   "source": [
    "### Magnaitude Response Tupes\n",
    "* Low Pass Filter and High pass filter\n",
    "* Band pass filter and Band reject filter\n",
    "* All pass filter \n",
    "    * Phase shift between input and output of all pass filter \n",
    "    \n",
    "#### The longer the  filter the better frequancy reselution"
   ]
  },
  {
   "cell_type": "markdown",
   "metadata": {},
   "source": [
    "# Analytic Signal ~ Hilbert Transform \n",
    "__Real Signal__ (sum of 2 complex exponential conjugates\n",
    "#### To\n",
    "__Analtic (Complex) Signal__: a single complex exponential \n"
   ]
  },
  {
   "cell_type": "markdown",
   "metadata": {},
   "source": [
    "We want to retrive the __amplitude__ (power) and __phase__ (freq) as a __function of time__\n",
    "* Method 1\n",
    "    * Short time fourier trnsform (STFT)\n",
    "    * = time and freq scalinge\n",
    "* Method 2\n",
    "    * Band pass (BP) filter + Hilbert\n",
    "    * You get a shorter freq window for better freq resultion and time resultion\n",
    "        * best freq and time resultion\n",
    "* Method 3 \n",
    "    * Wavelet \n",
    "    * __Series Forms an orthonormal basis__  \n",
    "        * picks up __independent and all__ components of the signel, \n",
    "            * This conserves the signal power (can sum over)\n",
    "    * Full freq range but freq resolution decreases logarithmically as freq increse\n",
    "    * Filtering with complex wavlets directly results in analytic signal \n",
    "    \n",
    "## With the right chosen parameters all should be more or less the same"
   ]
  },
  {
   "cell_type": "markdown",
   "metadata": {},
   "source": [
    "### Non Liner Analysis\n",
    "#### Just becuse you can seperate the signal into diffrent sinsoids does not mean they were generated from difrent process"
   ]
  },
  {
   "cell_type": "markdown",
   "metadata": {},
   "source": []
  },
  {
   "cell_type": "markdown",
   "metadata": {},
   "source": [
    "# Action Potential"
   ]
  },
  {
   "cell_type": "markdown",
   "metadata": {},
   "source": [
    "### Membrane Potential \n",
    "* Cell membrane as a electrical circut\n",
    "    * Modeled as a capacitior\n",
    "## Neuronal Dynamics\n",
    "<img src=\"https://ib.bioninja.com.au/_Media/epsp-vs-ipsp_med.jpeg\" />\n"
   ]
  },
  {
   "cell_type": "markdown",
   "metadata": {},
   "source": [
    "### Find the Spikes\n",
    "* 1) Filter\n",
    "    * Low Band Pass to get LFP\n",
    "    * High Band Pass to get EAP\n",
    "* 2) Thresholding\n",
    "    * Set a Threshold at 5 StdDeev \n",
    "    * Use Adaptive StdDev \n",
    "* 3) Dimentionalty Reduction\n",
    "    * Spike Sorting\n",
    "        * Identefy which neuron corosponds to which spike\n",
    "        * Use a Tetrode\n",
    "            * Records with 4 channels\n",
    "        * Use triongolation\n",
    "* 4) Clustering\n",
    "    * spepreate into\n",
    "        * Ecitatory (pyramdial cells) __wider spikes__\n",
    "        * Inhibetory (Other type cells) __nerrower spikes__\n"
   ]
  },
  {
   "cell_type": "markdown",
   "metadata": {},
   "source": [
    "Results in a __Spike Raster__\n",
    "Can also be done using diffrent nerus for 1 trial\n",
    "<img src = \"https://www.mathworks.com/matlabcentral/mlc-downloads/downloads/submissions/45671/versions/4/screenshot.jpg\"/>"
   ]
  },
  {
   "cell_type": "markdown",
   "metadata": {},
   "source": [
    "## Time alighment"
   ]
  },
  {
   "cell_type": "code",
   "execution_count": 16,
   "metadata": {},
   "outputs": [
    {
     "name": "stdout",
     "output_type": "stream",
     "text": [
      "i+lfp =  1\n",
      "i+spike =  21\n"
     ]
    }
   ],
   "source": [
    "fs_spike = 20000\n",
    "fs_lfp = 1000\n",
    "t_spike = 1.05*10**-3\n",
    "i_spike = round(t_spike * fs_spike)\n",
    "i_LFP = round(t_spike * fs_lfp)\n",
    "print(\"i+lfp = \", i_LFP)\n",
    "print(\"i+spike = \", i_spike)\n"
   ]
  },
  {
   "cell_type": "markdown",
   "metadata": {},
   "source": [
    "### Spike-Triggered Averege & Spike-Field Coherence\n",
    "Grap window of LFP around spike time, and take average across all winddows\n",
    "\n",
    "__Exactly analogous to ERP analysis__ using stimulus events where spikes happens\n"
   ]
  },
  {
   "cell_type": "markdown",
   "metadata": {},
   "source": [
    "### Spike-TPhase Coupling\n",
    "Get all phases indexed by spike then plot the disterbution. __uniform or strucured__"
   ]
  },
  {
   "cell_type": "code",
   "execution_count": null,
   "metadata": {},
   "outputs": [],
   "source": []
  }
 ],
 "metadata": {
  "kernelspec": {
   "display_name": "Python 3",
   "language": "python",
   "name": "python3"
  },
  "language_info": {
   "codemirror_mode": {
    "name": "ipython",
    "version": 3
   },
   "file_extension": ".py",
   "mimetype": "text/x-python",
   "name": "python",
   "nbconvert_exporter": "python",
   "pygments_lexer": "ipython3",
   "version": "3.7.0"
  }
 },
 "nbformat": 4,
 "nbformat_minor": 2
}
